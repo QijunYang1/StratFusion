{
 "cells": [
  {
   "cell_type": "code",
   "execution_count": null,
   "metadata": {},
   "outputs": [],
   "source": [
    "def get(k):\n",
    "    s = 0\n",
    "    for i in range(1000_000):\n",
    "        s += 1\n",
    "    return s\n",
    "for i in range(1000):\n",
    "    get(k)"
   ]
  },
  {
   "cell_type": "code",
   "execution_count": null,
   "metadata": {},
   "outputs": [],
   "source": [
    "from tqdm import tqdm\n",
    "from multiprocess import Pool\n",
    "\n",
    "max_pool = 5\n",
    "\n",
    "content = [0] * 1000\n",
    "\n",
    "with Pool(max_pool) as p:\n",
    "    pool_outputs = list(\n",
    "        tqdm(\n",
    "            p.imap(get,\n",
    "                   content),\n",
    "            total=len(content)\n",
    "        )\n",
    "    )    \n",
    "pool_outputs\n"
   ]
  }
 ],
 "metadata": {
  "language_info": {
   "name": "python"
  }
 },
 "nbformat": 4,
 "nbformat_minor": 2
}
